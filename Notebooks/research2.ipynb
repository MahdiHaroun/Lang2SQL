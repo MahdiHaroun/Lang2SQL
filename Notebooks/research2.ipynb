{
 "cells": [
  {
   "cell_type": "code",
   "execution_count": null,
   "id": "b9097b44",
   "metadata": {},
   "outputs": [],
   "source": [
    "from langchain_core.tools import Tool, tool\n",
    "from langchain_groq import ChatGroq\n",
    "from langchain_core.messages import HumanMessage, SystemMessage\n",
    "from langgraph.graph import MessagesState\n",
    "from dotenv import load_dotenv\n",
    "from typing import Dict, Any\n",
    "load_dotenv()\n",
    "llm = ChatGroq(model= \"openai/gpt-oss-120b\")\n",
    "\n",
    "from src.Tools.nlp_gen import nlp_chain\n",
    "from src.Tools.fetch_db import fetch_db\n",
    "from src.Tools.db_connector import DBConnector\n",
    "from src.Tools.execute_sql import execute_sql\n",
    "from src.Tools.summary import SummaryGenerator\n",
    "import os\n",
    "\n",
    "nlp_generator = nlp_chain()\n",
    "db_connector = DBConnector(os.getenv(\"POSTGRES_HOST\"), \n",
    "                           int(os.getenv(\"POSTGRES_PORT\")), \n",
    "                           os.getenv(\"POSTGRES_DB_NAME\"), \n",
    "                           os.getenv(\"POSTGRES_USERNAME\"), \n",
    "                           os.getenv(\"POSTGRES_PASSWORD\"))\n",
    "fetch_db = fetch_db(db_connector)  \n",
    "execute_sql = execute_sql(db_connector)\n",
    "summary_generator = SummaryGenerator()\n",
    "\n",
    "\n",
    "@tool\n",
    "def fetch_db_schema() -> str:\n",
    "    \"\"\"Fetches the database schema and returns it as a string.\"\"\"\n",
    "    try:\n",
    "        print(\"Fetching the database schema...\")\n",
    "        connector = db_connector.get_connection_string()\n",
    "        if connector is None:\n",
    "            raise ValueError(\"Database connection failed.\")\n",
    "        print(\"Database connected successfully.\")\n",
    "        db_schema = fetch_db.get_db_schema()\n",
    "        print(\"Database schema fetched successfully.\")\n",
    "        return str(db_schema)\n",
    "    except Exception as e: \n",
    "        raise ValueError(f\"Error occurred with exception : {e}\")\n",
    "\n",
    "\n",
    "@tool\n",
    "def generate_sql(question: str) -> str:\n",
    "    \"\"\"Generates an SQL query based on the user's question. This tool fetches the database schema internally.\"\"\"\n",
    "    try:\n",
    "        print(\"Fetching schema for SQL generation...\")\n",
    "        # Get fresh schema for SQL generation\n",
    "        db_schema = fetch_db.get_db_schema()\n",
    "        print(\"Generating SQL query for Read operation...\")\n",
    "        sql_chain = nlp_generator.get_sql_chain()\n",
    "        generated_sql = sql_chain.invoke({\"question\": question, \"db_schema\": db_schema})\n",
    "        print(f\"Generated SQL: {generated_sql}\")\n",
    "        return str(generated_sql)\n",
    "    except Exception as e:\n",
    "        raise ValueError(f\"Error occurred with exception : {e}\")\n",
    "        \n",
    "        \n",
    "@tool        \n",
    "def execute_sql_query(query: str) -> str:\n",
    "    \"\"\"Executes the generated SQL query and returns the query results.\"\"\"\n",
    "    try:\n",
    "        result = execute_sql.execute_query(query)\n",
    "        print(f\"Query Result: {result}\")\n",
    "        return str(result)\n",
    "    except Exception as e: \n",
    "        raise ValueError(f\"Error occurred with exception : {e}\")\n",
    "        \n",
    "\n",
    "@tool\n",
    "def get_summary(question_and_result: str) -> str:\n",
    "    \"\"\"Generates a summary of SQL query results. Input should be formatted as 'QUESTION: <question> RESULT: <result>'\"\"\"\n",
    "    try:\n",
    "        print(\"Generating summary of the SQL query result...\")\n",
    "        # Parse the combined input\n",
    "        parts = question_and_result.split(\"RESULT:\")\n",
    "        if len(parts) != 2:\n",
    "            return \"Error: Please format input as 'QUESTION: <question> RESULT: <result>'\"\n",
    "        \n",
    "        question = parts[0].replace(\"QUESTION:\", \"\").strip()\n",
    "        result = parts[1].strip()\n",
    "        \n",
    "        summary = summary_generator.generate_summary(question, result)\n",
    "        return str(summary)\n",
    "    except Exception as e:\n",
    "        raise ValueError(f\"Error occurred with exception : {e}\")\n",
    "\n",
    "           \n",
    "        \n",
    "# Create toolbox with decorated functions\n",
    "toolbox = [fetch_db_schema, generate_sql, execute_sql_query, get_summary]"
   ]
  },
  {
   "cell_type": "code",
   "execution_count": null,
   "id": "1d4a1937",
   "metadata": {},
   "outputs": [],
   "source": [
    "# Toolbox is now defined in the cell above\n",
    "# toolbox = [fetch_db_schema, generate_sql, execute_sql_query, get_summary]"
   ]
  },
  {
   "cell_type": "code",
   "execution_count": null,
   "id": "e9156eac",
   "metadata": {},
   "outputs": [],
   "source": [
    "llm_with_tools = llm.bind_tools(toolbox)"
   ]
  },
  {
   "cell_type": "code",
   "execution_count": null,
   "id": "91c3b8e4",
   "metadata": {},
   "outputs": [],
   "source": [
    "assistant_system_message = \"\"\"\n",
    "You are an expert SQL agent designed to assist users with database-related queries.\n",
    "Your primary functions include:\n",
    "1. Understanding user questions and generating appropriate SQL queries.\n",
    "2. Executing SQL queries against a PostgreSQL database.\n",
    "3. Summarizing the results of SQL queries in a user-friendly manner.\n",
    "\n",
    "You will utilize a set of specialized tools to accomplish these tasks:\n",
    "- fetch_db_schema: Fetches the database schema. No input required.\n",
    "- generate_sql: Generates an SQL query based on the user's question. Requires only the 'question' as input.\n",
    "- execute_sql_query: Executes the generated SQL query. Requires the 'query' as input.\n",
    "- get_summary: Generates a summary of SQL query results. Requires input formatted as 'QUESTION: <question> RESULT: <result>'.\n",
    "\n",
    "Your responses should be concise and focused on the task at hand. Always ensure that the SQL queries you generate are syntactically correct and optimized for performance.\n",
    "\n",
    "Guidelines:\n",
    "- You can fetch the database schema first if needed, but the generate_sql tool handles schema internally\n",
    "- Ensure that the SQL queries you generate are syntactically correct and optimized for performance\n",
    "- When summarizing results, focus on the key insights and avoid unnecessary technical jargon\n",
    "- Follow this workflow: generate_sql -> execute_sql_query -> get_summary\n",
    "- For get_summary, format the input as 'QUESTION: <original_question> RESULT: <query_result>'\n",
    "\"\"\""
   ]
  },
  {
   "cell_type": "code",
   "execution_count": null,
   "id": "f99f943a",
   "metadata": {},
   "outputs": [],
   "source": [
    "def assistant(state: MessagesState):\n",
    "   return {\"messages\": [llm_with_tools.invoke([assistant_system_message] + state[\"messages\"])]}\n"
   ]
  },
  {
   "cell_type": "code",
   "execution_count": null,
   "id": "2162f0a8",
   "metadata": {},
   "outputs": [],
   "source": [
    "from langgraph.graph import START, StateGraph\n",
    "from langgraph.prebuilt import tools_condition\n",
    "from langgraph.prebuilt import ToolNode\n",
    "from IPython.display import Image, display\n",
    "from langgraph.checkpoint.memory import MemorySaver\n",
    "\n",
    "# Graph\n",
    "builder = StateGraph(MessagesState)\n",
    "\n",
    "# Define nodes: these do the work\n",
    "builder.add_node(\"assistant\", assistant)\n",
    "builder.add_node(\"tools\", ToolNode(toolbox))\n",
    "\n",
    "# Define edges: these determine how the control flow moves\n",
    "builder.add_edge(START, \"assistant\")\n",
    "builder.add_conditional_edges(\n",
    "    \"assistant\",\n",
    "    # If the latest message (result) from assistant is a tool call -> tools_condition routes to tools\n",
    "    # If the latest message (result) from assistant is a not a tool call -> tools_condition routes to END\n",
    "    tools_condition,\n",
    ")\n",
    "builder.add_edge(\"tools\", \"assistant\")\n",
    "memory = MemorySaver()\n",
    "react_graph = builder.compile(checkpointer=memory)\n",
    "\n",
    "# Show\n",
    "display(Image(react_graph.get_graph(xray=True).draw_mermaid_png()))"
   ]
  },
  {
   "cell_type": "code",
   "execution_count": null,
   "id": "b71a5878",
   "metadata": {},
   "outputs": [],
   "source": [
    "def sql_advisor(user_request: str, thread_id = \"1\", verbose = False):\n",
    "    config = {\"configurable\": {\"thread_id\": thread_id}}\n",
    "    messages = react_graph.invoke({\"messages\": [HumanMessage(content=user_request)]}, config)\n",
    "    if verbose:\n",
    "        for message in messages['messages']:\n",
    "            message.pretty_print()\n",
    "    else:\n",
    "        messages['messages'][-1].pretty_print()"
   ]
  },
  {
   "cell_type": "code",
   "execution_count": null,
   "id": "7f3e0f87",
   "metadata": {},
   "outputs": [],
   "source": [
    "sql_advisor(\"provide me with a breif about my database schema\")"
   ]
  },
  {
   "cell_type": "code",
   "execution_count": null,
   "id": "9ecd8ca5",
   "metadata": {},
   "outputs": [],
   "source": [
    "sql_advisor(\"show me the first 5 rows in the peopel table\")"
   ]
  },
  {
   "cell_type": "code",
   "execution_count": null,
   "id": "4fd64ff8",
   "metadata": {},
   "outputs": [],
   "source": [
    "sql_advisor(\"update Alice age to 36\")"
   ]
  },
  {
   "cell_type": "code",
   "execution_count": null,
   "id": "c542ce12",
   "metadata": {},
   "outputs": [],
   "source": [
    "sql_advisor(\"delete Bob from the people table\")"
   ]
  },
  {
   "cell_type": "code",
   "execution_count": null,
   "id": "ba7da7bd",
   "metadata": {},
   "outputs": [],
   "source": [
    "sql_advisor(\n",
    "    user_request=\"add bob back\", \n",
    "    thread_id=\"2\"\n",
    ")"
   ]
  },
  {
   "cell_type": "code",
   "execution_count": null,
   "id": "8e614925",
   "metadata": {},
   "outputs": [],
   "source": [
    "sql_advisor(\n",
    "    user_request=\"bob in people age is 20 and email bob@exp.com\", \n",
    "    thread_id=\"2\"\n",
    ")"
   ]
  },
  {
   "cell_type": "code",
   "execution_count": null,
   "id": "dfe23fbc",
   "metadata": {},
   "outputs": [],
   "source": []
  }
 ],
 "metadata": {
  "kernelspec": {
   "display_name": "SQLAgent",
   "language": "python",
   "name": "python3"
  },
  "language_info": {
   "codemirror_mode": {
    "name": "ipython",
    "version": 3
   },
   "file_extension": ".py",
   "mimetype": "text/x-python",
   "name": "python",
   "nbconvert_exporter": "python",
   "pygments_lexer": "ipython3",
   "version": "3.12.3"
  }
 },
 "nbformat": 4,
 "nbformat_minor": 5
}